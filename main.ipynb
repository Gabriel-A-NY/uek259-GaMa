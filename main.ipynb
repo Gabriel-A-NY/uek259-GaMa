{
  "cells": [
    {
      "cell_type": "markdown",
      "source": [
        "# Country Guessing Game"
      ],
      "metadata": {
        "id": "OIHK_f4UF6sW"
      },
      "id": "OIHK_f4UF6sW"
    },
    {
      "metadata": {
        "id": "f7e5002c0f5bd188",
        "outputId": "2186c8ac-f3f3-43f9-a486-48c275047ddb",
        "colab": {
          "base_uri": "https://localhost:8080/"
        }
      },
      "cell_type": "code",
      "outputs": [
        {
          "output_type": "stream",
          "name": "stdout",
          "text": [
            "           Country                               Region  Population  \\\n",
            "0     Afghanistan         ASIA (EX. NEAR EAST)             31056997   \n",
            "1         Albania   EASTERN EUROPE                          3581655   \n",
            "2         Algeria   NORTHERN AFRICA                        32930091   \n",
            "3  American Samoa   OCEANIA                                   57794   \n",
            "4         Andorra   WESTERN EUROPE                            71201   \n",
            "\n",
            "   Area (sq. mi.) Pop. Density (per sq. mi.) Coastline (coast/area ratio)  \\\n",
            "0          647500                       48,0                         0,00   \n",
            "1           28748                      124,6                         1,26   \n",
            "2         2381740                       13,8                         0,04   \n",
            "3             199                      290,4                        58,29   \n",
            "4             468                      152,1                         0,00   \n",
            "\n",
            "  Net migration Infant mortality (per 1000 births)  GDP ($ per capita)  \\\n",
            "0         23,06                             163,07               700.0   \n",
            "1         -4,93                              21,52              4500.0   \n",
            "2         -0,39                                 31              6000.0   \n",
            "3        -20,71                               9,27              8000.0   \n",
            "4           6,6                               4,05             19000.0   \n",
            "\n",
            "  Literacy (%) Phones (per 1000) Arable (%) Crops (%) Other (%) Climate  \\\n",
            "0         36,0               3,2      12,13      0,22     87,65       1   \n",
            "1         86,5              71,2      21,09      4,42     74,49       3   \n",
            "2         70,0              78,1       3,22      0,25     96,53       1   \n",
            "3         97,0             259,5         10        15        75       2   \n",
            "4        100,0             497,2       2,22         0     97,78       3   \n",
            "\n",
            "  Birthrate Deathrate Agriculture Industry Service  \n",
            "0      46,6     20,34        0,38     0,24    0,38  \n",
            "1     15,11      5,22       0,232    0,188   0,579  \n",
            "2     17,14      4,61       0,101      0,6   0,298  \n",
            "3     22,46      3,27         NaN      NaN     NaN  \n",
            "4      8,71      6,25         NaN      NaN     NaN  \n"
          ]
        },
        {
          "output_type": "execute_result",
          "data": {
            "text/plain": [
              "array([1])"
            ]
          },
          "metadata": {},
          "execution_count": 16
        }
      ],
      "execution_count": 16,
      "source": [
        "from sklearn import tree\n",
        "import pandas as pd\n",
        "\n",
        "df = pd.read_csv(\"countries.csv\")\n",
        "\n",
        "print(df.head())\n",
        "\n",
        "# X => Feature values such as population range continent, etc.\n",
        "# each element of array is to be a fact of the country (e.g. \"80'000'000 => population of germany\")\n",
        "X = [[0, 0], [1, 1]]\n",
        "\n",
        "# Y => country which the element of X refers to\n",
        "# for the above example => \"germany\"\n",
        "Y = [0, 1]\n",
        "clf = tree.DecisionTreeClassifier()\n",
        "clf = clf.fit(X, Y)\n",
        "\n",
        "clf.predict([[2., 2.]])"
      ],
      "id": "f7e5002c0f5bd188"
    }
  ],
  "metadata": {
    "colab": {
      "provenance": []
    },
    "language_info": {
      "name": "python"
    },
    "kernelspec": {
      "name": "python3",
      "display_name": "Python 3"
    }
  },
  "nbformat": 4,
  "nbformat_minor": 5
}